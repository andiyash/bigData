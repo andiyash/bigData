{
 "cells": [
  {
   "cell_type": "code",
   "execution_count": 1,
   "id": "377ad44c-9c34-4abf-a09c-f9f00a7afbb1",
   "metadata": {},
   "outputs": [],
   "source": [
    "import os\n",
    "from pyspark import SparkContext, SparkConf \n",
    "from pyspark.sql import SparkSession\n",
    "from pyspark.sql.functions import col\n",
    "import pyspark.sql as sql\n",
    "import xml.etree.ElementTree as ET\n",
    "from pyspark.sql.functions import explode\n",
    "from pyspark.sql import Window\n",
    "from pyspark.sql.functions import row_number"
   ]
  },
  {
   "cell_type": "code",
   "execution_count": 2,
   "id": "f390b8b8-ff3b-4a55-8038-72df4886b1ef",
   "metadata": {},
   "outputs": [],
   "source": [
    "os.environ['PYSPARK_SUBMIT_ARGS'] = '--packages com.databricks:spark-xml_2.12:0.14.0 pyspark-shell'"
   ]
  },
  {
   "cell_type": "code",
   "execution_count": 3,
   "id": "93da5bbf-5795-402d-b1a0-9b36f319d546",
   "metadata": {},
   "outputs": [
    {
     "data": {
      "text/html": [
       "\n",
       "        <div>\n",
       "            <p><b>SparkContext</b></p>\n",
       "\n",
       "            <p><a href=\"http://n1.maapr.xyz:4046\">Spark UI</a></p>\n",
       "\n",
       "            <dl>\n",
       "              <dt>Version</dt>\n",
       "                <dd><code>v3.1.2.0-eep-800</code></dd>\n",
       "              <dt>Master</dt>\n",
       "                <dd><code>yarn</code></dd>\n",
       "              <dt>AppName</dt>\n",
       "                <dd><code>pyspark-shell</code></dd>\n",
       "            </dl>\n",
       "        </div>\n",
       "        "
      ],
      "text/plain": [
       "<SparkContext master=yarn appName=pyspark-shell>"
      ]
     },
     "execution_count": 3,
     "metadata": {},
     "output_type": "execute_result"
    }
   ],
   "source": [
    "try:\n",
    "    sc = SparkContext.getOrCreate()\n",
    "    sc.setLogLevel(\"ERROR\")  \n",
    "except:\n",
    "    conf = SparkConf().setAppName(\"Lab2\").setMaster('local[1]')\n",
    "    sc = SparkContext(conf=conf)\n",
    "    sc.setLogLevel(\"ERROR\")  \n",
    "spark = SparkSession(sc)\n",
    "\n",
    "sc"
   ]
  },
  {
   "cell_type": "code",
   "execution_count": 4,
   "id": "4e247573-bcf7-4a36-8cfb-ff3eb615cf2e",
   "metadata": {},
   "outputs": [
    {
     "name": "stdout",
     "output_type": "stream",
     "text": [
      "put: `Lab1.ipynb': File exists\n",
      "put: `Lab2.ipynb': File exists\n",
      "put: `list_of_countries_sorted_gini.txt': File exists\n",
      "put: `nyctaxi.csv': File exists\n",
      "put: `posts_sample.xml': File exists\n",
      "put: `programming-languages.csv': File exists\n",
      "put: `stations.csv': File exists\n",
      "put: `trips.csv': File exists\n",
      "put: `warandsociety.txt': File exists\n"
     ]
    }
   ],
   "source": [
    "!hadoop fs -put * ."
   ]
  },
  {
   "cell_type": "code",
   "execution_count": 5,
   "id": "a7ae833d-4b1a-4da5-9b90-ce47c34828c5",
   "metadata": {},
   "outputs": [
    {
     "name": "stdout",
     "output_type": "stream",
     "text": [
      "Found 14 items\n",
      "drwxr-xr-x   - andiyash andiyash          1 2023-12-23 20:35 .sparkStaging\n",
      "-rwxr-xr-x   3 andiyash andiyash      15240 2023-12-22 23:45 Lab1.ipynb\n",
      "-rwxr-xr-x   3 andiyash andiyash       2730 2023-12-22 23:45 Lab2.ipynb\n",
      "-rwxr-xr-x   3 andiyash andiyash       1318 2023-12-22 15:51 Untitled.ipynb\n",
      "drwxr-xr-x   - andiyash andiyash          6 2023-12-22 15:51 data\n",
      "-rwxr-xr-x   3 andiyash andiyash        394 2023-12-22 15:51 list_of_countries_sorted_gini.txt\n",
      "-rwxr-xr-x   3 andiyash andiyash   79500408 2023-12-22 15:51 nyctaxi.csv\n",
      "-rwxr-xr-x   3 andiyash andiyash   74162295 2023-12-22 23:52 posts_sample.xml\n",
      "-rwxr-xr-x   3 andiyash andiyash      40269 2023-12-22 15:51 programming-languages.csv\n",
      "drwxr-xr-x   - andiyash andiyash          0 2023-12-22 21:11 spark-warehouse\n",
      "-rwxr-xr-x   3 andiyash andiyash       5647 2023-12-22 15:51 stations.csv\n",
      "drwxr-xr-x   - andiyash andiyash        101 2023-12-23 20:34 top_10_languages_between_2010_and_2020.parquet\n",
      "-rwxr-xr-x   3 andiyash andiyash   80208831 2023-12-22 16:54 trips.csv\n",
      "-rwxr-xr-x   3 andiyash andiyash    5315699 2023-12-22 00:46 warandsociety.txt\n"
     ]
    }
   ],
   "source": [
    "!hadoop fs -ls"
   ]
  },
  {
   "cell_type": "code",
   "execution_count": 6,
   "id": "658c3b55-ff05-46f9-b29c-97aec9c7c4cc",
   "metadata": {},
   "outputs": [],
   "source": [
    "\n",
    "# Чтение данных из файла\n",
    "postsSample = spark.read.format('xml')\\\n",
    ".option('rootTag', 'posts')\\\n",
    ".option('rowTag', 'row')\\\n",
    ".load(\"posts_sample.xml\")"
   ]
  },
  {
   "cell_type": "code",
   "execution_count": 7,
   "id": "fa601cb9-4e9e-4132-a01d-0920aac53536",
   "metadata": {},
   "outputs": [
    {
     "data": {
      "text/plain": [
       "DataFrame[name: string, wikipedia_url: string]"
      ]
     },
     "execution_count": 7,
     "metadata": {},
     "output_type": "execute_result"
    }
   ],
   "source": [
    "languages = spark.read\\\n",
    ".option(\"header\", True)\\\n",
    ".option(\"inferSchema\", True)\\\n",
    ".csv(\"programming-languages.csv\")\n",
    "\n",
    "languages"
   ]
  },
  {
   "cell_type": "code",
   "execution_count": 8,
   "id": "dc61c2bb-9155-4029-bd43-f77927a71ab4",
   "metadata": {},
   "outputs": [],
   "source": [
    "# Выбор определенных столбцов из DataFrame postsSample\n",
    "postsSample_DF = postsSample.select(\"_CreationDate\", \"_ViewCount\", \"_Tags\")"
   ]
  },
  {
   "cell_type": "code",
   "execution_count": 9,
   "id": "5ad5bfef-b78b-4162-bb49-67dd3f6b9240",
   "metadata": {},
   "outputs": [
    {
     "name": "stdout",
     "output_type": "stream",
     "text": [
      "+----+-----+--------------------+\n",
      "|year|views|           languages|\n",
      "+----+-----+--------------------+\n",
      "|2010| 3650|[c++, character-e...|\n",
      "|2010|  617|[sharepoint, info...|\n",
      "|2010| 1315|[iphone, app-stor...|\n",
      "|2010|  973|[symfony1, schema...|\n",
      "|2010|  132|              [java]|\n",
      "|2010|  419|[visual-studio-20...|\n",
      "|2010|  869|[cakephp, file-up...|\n",
      "|2010| 1303|[git, cygwin, putty]|\n",
      "|2010|  748|  [drupal, drupal-6]|\n",
      "|2010| 1258|[php, wordpress, ...|\n",
      "|2010|14972|[c#, winforms, da...|\n",
      "|2010|  274|[c#, asp.net, exc...|\n",
      "|2010|  804|    [sql, xml, blob]|\n",
      "|2010| 6019|[.htaccess, codei...|\n",
      "|2010| 5456|[wcf, web-service...|\n",
      "|2010|  316|[mod-rewrite, apa...|\n",
      "|2010|15477|[sql, database, d...|\n",
      "|2010| 9649|         [ruby, rvm]|\n",
      "|2010|20199|  [android, eclipse]|\n",
      "|2010|  735|[iphone, uiimagev...|\n",
      "+----+-----+--------------------+\n",
      "only showing top 20 rows\n",
      "\n"
     ]
    }
   ],
   "source": [
    "\n",
    "# Фильтрация и обработка данных\n",
    "parsedPosts_sample = (\n",
    "    postsSample_DF\n",
    "    .filter(col(\"_Tags\").isNotNull())\n",
    "    .rdd\n",
    "    .map(lambda x: (str(x[\"_CreationDate\"]).split('-')[0], x[\"_ViewCount\"], x[\"_Tags\"][1:-1].split('><')))\n",
    "    .toDF([\"year\", \"views\", \"languages\"])\n",
    ")\n",
    "\n",
    "# Извлечение года, количества просмотров и списка языков из каждой строки в диапазоне от 2010 до 2020 включительно\n",
    "parsedPosts_sample = parsedPosts_sample.filter((col(\"year\") >= 2010) & (col(\"year\") <= 2020))\n",
    "\n",
    "# Вывод результатов\n",
    "parsedPosts_sample.show()"
   ]
  },
  {
   "cell_type": "code",
   "execution_count": 10,
   "id": "dad66302-dc0f-41f3-b3b4-bd8a25fc9021",
   "metadata": {},
   "outputs": [
    {
     "name": "stdout",
     "output_type": "stream",
     "text": [
      "+----+-----+-----------+\n",
      "|year|views|   language|\n",
      "+----+-----+-----------+\n",
      "|2010|  132|       java|\n",
      "|2010| 1258|        php|\n",
      "|2010| 9649|       ruby|\n",
      "|2010| 2384|          c|\n",
      "|2010| 1987|        php|\n",
      "|2010| 3321|     python|\n",
      "|2010|  128| javascript|\n",
      "|2010|  477|applescript|\n",
      "|2010| 1748|        php|\n",
      "|2010|  998|        php|\n",
      "|2010| 2095| javascript|\n",
      "|2010|  447|        sed|\n",
      "|2010| 6558|     python|\n",
      "|2010|  214|       java|\n",
      "|2010|  214|       ruby|\n",
      "|2010|  852|objective-c|\n",
      "|2010|  179| javascript|\n",
      "|2010| 6709|          r|\n",
      "|2010|   78|        php|\n",
      "|2010| 1280| javascript|\n",
      "+----+-----+-----------+\n",
      "only showing top 20 rows\n",
      "\n"
     ]
    }
   ],
   "source": [
    "\n",
    "# Выбор всех имен языков из столбца \"name\" в DataFrame wiki_languages и приведение их к нижнему регистру\n",
    "names = languages.select(\"name\").rdd.map(lambda x: x[0].lower()).collect()\n",
    "\n",
    "\n",
    "\n",
    "# Преобразование столбца \"languages\" из списка в строки\n",
    "parsedPosts_sample = parsedPosts_sample.select(\"year\", \"views\", explode(\"languages\").alias(\"language\"))\n",
    "\n",
    "# Фильтрация DataFrame parsedPosts_sample: оставляем только записи, где язык содержится в списке names\n",
    "parsedPosts_sample = parsedPosts_sample.filter(col(\"language\").isin(names))\n",
    "\n",
    "# Вывод результатов\n",
    "parsedPosts_sample.show()\n"
   ]
  },
  {
   "cell_type": "code",
   "execution_count": 11,
   "id": "9eec9a66-0a9e-4bf0-b29e-03b508e3a734",
   "metadata": {},
   "outputs": [
    {
     "name": "stdout",
     "output_type": "stream",
     "text": [
      "+----+-----------+----------+\n",
      "|year|   language|sum(views)|\n",
      "+----+-----------+----------+\n",
      "|2013|     erlang|      2302|\n",
      "|2017| typescript|     29031|\n",
      "|2017|        sed|        93|\n",
      "|2013| javascript|    609571|\n",
      "|2013|         f#|      4317|\n",
      "|2012| powershell|     17311|\n",
      "|2019|        php|      3753|\n",
      "|2017|    haskell|      4040|\n",
      "|2013| autohotkey|      4421|\n",
      "|2013|applescript|      2059|\n",
      "|2019|      xpath|        27|\n",
      "|2015|     racket|       762|\n",
      "|2017|         go|      1356|\n",
      "|2018|      perl6|       109|\n",
      "|2015|       dart|       402|\n",
      "|2015|       rust|       117|\n",
      "|2012|         f#|      1222|\n",
      "|2018|     python|     99996|\n",
      "|2017|     prolog|        76|\n",
      "|2016|      latex|       461|\n",
      "+----+-----------+----------+\n",
      "only showing top 20 rows\n",
      "\n"
     ]
    }
   ],
   "source": [
    "\n",
    "# Группировка DataFrame parsedPosts_sample по столбцам \"year\" и \"language\" с агрегацией суммы просмотров\n",
    "parsedPosts_sample = parsedPosts_sample.groupBy(\"year\", \"language\").agg({\"views\": \"sum\"})\n",
    "parsedPosts_sample.show()"
   ]
  },
  {
   "cell_type": "code",
   "execution_count": 12,
   "id": "c01b6085-c16c-4c29-953d-72943ce2db51",
   "metadata": {},
   "outputs": [
    {
     "name": "stdout",
     "output_type": "stream",
     "text": [
      "+----+-----------+-------+----------+\n",
      "|year|   language|  views|row_number|\n",
      "+----+-----------+-------+----------+\n",
      "|2010|        php|1189629|         1|\n",
      "|2010|       java| 563211|         2|\n",
      "|2010| javascript| 316131|         3|\n",
      "|2010|objective-c|  97009|         4|\n",
      "|2010|       ruby|  76215|         5|\n",
      "|2010|          c|  66587|         6|\n",
      "|2010|     python|  60672|         7|\n",
      "|2010|     matlab|  51865|         8|\n",
      "|2010|applescript|  32305|         9|\n",
      "|2010|     delphi|  13065|        10|\n",
      "|2011| javascript| 809078|         1|\n",
      "|2011|       java| 389834|         2|\n",
      "|2011|        php| 246770|         3|\n",
      "|2011|          c| 238277|         4|\n",
      "|2011|objective-c| 218934|         5|\n",
      "|2011|     python| 203180|         6|\n",
      "|2011|       bash|  60805|         7|\n",
      "|2011|       ruby|  39223|         8|\n",
      "|2011|       perl|  28502|         9|\n",
      "|2011|     matlab|  18816|        10|\n",
      "+----+-----------+-------+----------+\n",
      "only showing top 20 rows\n",
      "\n"
     ]
    }
   ],
   "source": [
    "\n",
    "window = Window.partitionBy(parsedPosts_sample['year']).orderBy(parsedPosts_sample['sum(views)'].desc())\n",
    "postsSample_10 = parsedPosts_sample.select('*', row_number().over(window).alias('row_number')).filter(col('row_number') <= 10).withColumnRenamed(\"sum(views)\", \"views\")\n",
    "postsSample_10 = postsSample_10.orderBy(col(\"year\").asc(), col(\"sum(views)\").desc())\n",
    "postsSample_10.show()"
   ]
  },
  {
   "cell_type": "code",
   "execution_count": null,
   "id": "cd83a150-7c1b-4b82-88ed-f6609f5ae6c0",
   "metadata": {},
   "outputs": [],
   "source": [
    "# Запись результата в формате Parquet\n",
    "postsSample_10.write.mode('overwrite').parquet(\"top_10_languages_between_2010_and_2020.parquet\")"
   ]
  },
  {
   "cell_type": "code",
   "execution_count": null,
   "id": "f81b3e99-4184-4cc5-bde5-54fff78095a6",
   "metadata": {},
   "outputs": [],
   "source": [
    "!hadoop fs -ls"
   ]
  },
  {
   "cell_type": "code",
   "execution_count": null,
   "id": "c84f0895-a49f-486b-91b6-1367fbb43e99",
   "metadata": {},
   "outputs": [],
   "source": [
    "sc.stop()"
   ]
  },
  {
   "cell_type": "code",
   "execution_count": null,
   "id": "9f9d235a-7d31-4e73-823d-61add084e11a",
   "metadata": {},
   "outputs": [],
   "source": []
  }
 ],
 "metadata": {
  "kernelspec": {
   "display_name": "Python 3",
   "language": "python",
   "name": "python3"
  },
  "language_info": {
   "codemirror_mode": {
    "name": "ipython",
    "version": 3
   },
   "file_extension": ".py",
   "mimetype": "text/x-python",
   "name": "python",
   "nbconvert_exporter": "python",
   "pygments_lexer": "ipython3",
   "version": "3.9.5"
  }
 },
 "nbformat": 4,
 "nbformat_minor": 5
}
